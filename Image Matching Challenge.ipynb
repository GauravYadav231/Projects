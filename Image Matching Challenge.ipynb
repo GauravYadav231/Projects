{
 "cells": [
  {
   "cell_type": "markdown",
   "id": "6728d6f7",
   "metadata": {
    "papermill": {
     "duration": 0.009618,
     "end_time": "2024-05-07T18:14:32.561085",
     "exception": false,
     "start_time": "2024-05-07T18:14:32.551467",
     "status": "completed"
    },
    "tags": []
   },
   "source": [
    "# <center style=\"font-family: consolas; font-size: 32px; font-weight: bold;\"> 📸 Image Matching Challenge - 📊 Understanding the baseline</center>\n",
    "<p><center style=\"color:#949494; font-family: consolas; font-size: 20px;\">Reconstruct 3D scenes from 2D images over six different domains</center></p>\n",
    "\n",
    "***\n",
    "\n",
    "In this notebook I explain the baseline solution provided by the organizers in [this notebook](https://www.kaggle.com/code/oldufo/imc-2024-submission-example).\n",
    "\n",
    "I have made the code a bit easier to read, adding comments and type annotations to make it easier for you to understand what is going on.\n",
    "\n",
    "Hope you enjoy ❤️"
   ]
  },
  {
   "cell_type": "markdown",
   "id": "af01bb66",
   "metadata": {
    "papermill": {
     "duration": 0.008685,
     "end_time": "2024-05-07T18:14:32.578876",
     "exception": false,
     "start_time": "2024-05-07T18:14:32.570191",
     "status": "completed"
    },
    "tags": []
   },
   "source": [
    "# Structure from Motion"
   ]
  },
  {
   "cell_type": "markdown",
   "id": "04929bd1",
   "metadata": {
    "papermill": {
     "duration": 0.008752,
     "end_time": "2024-05-07T18:14:32.596545",
     "exception": false,
     "start_time": "2024-05-07T18:14:32.587793",
     "status": "completed"
    },
    "tags": []
   },
   "source": [
    "Structure from Motion (SfM) is the name given to the procedure of **reconstructing a 3D scene and simultaneously obtaining the camera poses of a camera w.r.t. the given scene**. This means that, as the name suggests, we are creating the entire rigid structure from a set of images with different view points (or equivalently a camera in motion).\n",
    "\n",
    "In this competition, the important aspect of SfM we are interested in is *obtaining the camera poses* of where each image was taken, described by a rotation matrix and translation vector from the origin. These are the objects that will be scored in our submission!"
   ]
  },
  {
   "cell_type": "markdown",
   "id": "d273fdae",
   "metadata": {
    "papermill": {
     "duration": 0.008638,
     "end_time": "2024-05-07T18:14:32.614009",
     "exception": false,
     "start_time": "2024-05-07T18:14:32.605371",
     "status": "completed"
    },
    "tags": []
   },
   "source": [
    "<center><img src=\"https://external-content.duckduckgo.com/iu/?u=https%3A%2F%2Ftse1.mm.bing.net%2Fth%3Fid%3DOIP.ENP48SmZHwG3r3O0lUVcWAHaFf%26pid%3DApi&f=1&ipt=550bf79efa85e7af870dd2d0a16793af7f3f83a36c14a1f4a648659a384b5a98&ipo=images\" alt=\"Structure from motion structure: multiple cameras pointing toward an object in different positions and rotations that we need to find.\"></center> "
   ]
  },
  {
   "cell_type": "markdown",
   "id": "fbd2de96",
   "metadata": {
    "papermill": {
     "duration": 0.009182,
     "end_time": "2024-05-07T18:14:32.631998",
     "exception": false,
     "start_time": "2024-05-07T18:14:32.622816",
     "status": "completed"
    },
    "tags": []
   },
   "source": [
    "# Baseline solution steps\n",
    "In order to be able to estimate the camera poses, the solution provided by the organizers consists in the following steps:\n",
    "\n",
    "* [1. Find pairs of images that are similar](#1)\n",
    "* [2. Compute image keypoints](#2)\n",
    "* [3. Match keypoints between images](#3)\n",
    "* [4. Outlier detection with RANSAC](#4)\n",
    "* [5. Sparse reconstruction](#5)\n",
    "\n",
    "Let's understand how these steps are carried out"
   ]
  },
  {
   "cell_type": "markdown",
   "id": "ab6638a6",
   "metadata": {
    "papermill": {
     "duration": 0.008706,
     "end_time": "2024-05-07T18:14:32.649820",
     "exception": false,
     "start_time": "2024-05-07T18:14:32.641114",
     "status": "completed"
    },
    "tags": []
   },
   "source": [
    "# Installing & importing relevant packages and models"
   ]
  },
  {
   "cell_type": "code",
   "execution_count": 1,
   "id": "deda44ef",
   "metadata": {
    "_cell_guid": "b1076dfc-b9ad-4769-8c92-a6c4dae69d19",
    "_kg_hide-input": true,
    "_kg_hide-output": true,
    "_uuid": "8f2839f25d086af736a60e9eeb907d3b93b6e0e5",
    "execution": {
     "iopub.execute_input": "2024-05-07T18:14:32.670247Z",
     "iopub.status.busy": "2024-05-07T18:14:32.669914Z",
     "iopub.status.idle": "2024-05-07T18:14:43.578513Z",
     "shell.execute_reply": "2024-05-07T18:14:43.577269Z"
    },
    "papermill": {
     "duration": 10.922149,
     "end_time": "2024-05-07T18:14:43.580835",
     "exception": false,
     "start_time": "2024-05-07T18:14:32.658686",
     "status": "completed"
    },
    "tags": []
   },
   "outputs": [
    {
     "name": "stdout",
     "output_type": "stream",
     "text": [
      "Processing /kaggle/input/imc2024-packages-lightglue-rerun-kornia/kornia-0.7.2-py2.py3-none-any.whl\r\n",
      "Processing /kaggle/input/imc2024-packages-lightglue-rerun-kornia/kornia_moons-0.2.9-py3-none-any.whl\r\n",
      "Processing /kaggle/input/imc2024-packages-lightglue-rerun-kornia/kornia_rs-0.1.2-cp310-cp310-manylinux_2_17_x86_64.manylinux2014_x86_64.whl\r\n",
      "Processing /kaggle/input/imc2024-packages-lightglue-rerun-kornia/lightglue-0.0-py3-none-any.whl\r\n",
      "Processing /kaggle/input/imc2024-packages-lightglue-rerun-kornia/pycolmap-0.6.1-cp310-cp310-manylinux_2_17_x86_64.manylinux2014_x86_64.whl\r\n",
      "Processing /kaggle/input/imc2024-packages-lightglue-rerun-kornia/rerun_sdk-0.15.0a2-cp38-abi3-manylinux_2_31_x86_64.whl\r\n",
      "Installing collected packages: rerun-sdk, pycolmap, lightglue, kornia-rs, kornia-moons, kornia\r\n",
      "  Attempting uninstall: kornia\r\n",
      "    Found existing installation: kornia 0.7.1\r\n",
      "    Uninstalling kornia-0.7.1:\r\n",
      "      Successfully uninstalled kornia-0.7.1\r\n",
      "Successfully installed kornia-0.7.2 kornia-moons-0.2.9 kornia-rs-0.1.2 lightglue-0.0 pycolmap-0.6.1 rerun-sdk-0.15.0a2\r\n"
     ]
    }
   ],
   "source": [
    "!pip install --no-index /kaggle/input/imc2024-packages-lightglue-rerun-kornia/* --no-deps\n",
    "!mkdir -p /root/.cache/torch/hub/checkpoints\n",
    "!cp /kaggle/input/aliked/pytorch/aliked-n16/1/* /root/.cache/torch/hub/checkpoints/\n",
    "!cp /kaggle/input/lightglue/pytorch/aliked/1/* /root/.cache/torch/hub/checkpoints/\n",
    "!cp /kaggle/input/lightglue/pytorch/aliked/1/aliked_lightglue.pth /root/.cache/torch/hub/checkpoints/aliked_lightglue_v0-1_arxiv-pth"
   ]
  },
  {
   "cell_type": "code",
   "execution_count": 2,
   "id": "4f091e5a",
   "metadata": {
    "_kg_hide-input": true,
    "_kg_hide-output": true,
    "execution": {
     "iopub.execute_input": "2024-05-07T18:14:43.602424Z",
     "iopub.status.busy": "2024-05-07T18:14:43.602069Z",
     "iopub.status.idle": "2024-05-07T18:15:01.492463Z",
     "shell.execute_reply": "2024-05-07T18:15:01.491477Z"
    },
    "papermill": {
     "duration": 17.903573,
     "end_time": "2024-05-07T18:15:01.494613",
     "exception": false,
     "start_time": "2024-05-07T18:14:43.591040",
     "status": "completed"
    },
    "tags": []
   },
   "outputs": [
    {
     "name": "stderr",
     "output_type": "stream",
     "text": [
      "2024-05-07 18:14:53.121257: E external/local_xla/xla/stream_executor/cuda/cuda_dnn.cc:9261] Unable to register cuDNN factory: Attempting to register factory for plugin cuDNN when one has already been registered\n",
      "2024-05-07 18:14:53.121351: E external/local_xla/xla/stream_executor/cuda/cuda_fft.cc:607] Unable to register cuFFT factory: Attempting to register factory for plugin cuFFT when one has already been registered\n",
      "2024-05-07 18:14:53.229811: E external/local_xla/xla/stream_executor/cuda/cuda_blas.cc:1515] Unable to register cuBLAS factory: Attempting to register factory for plugin cuBLAS when one has already been registered\n"
     ]
    },
    {
     "name": "stdout",
     "output_type": "stream",
     "text": [
      "cuda:0\n",
      "DEBUG: False\n"
     ]
    }
   ],
   "source": [
    "# General utilities\n",
    "import matplotlib.pyplot as plt\n",
    "\n",
    "import os\n",
    "from tqdm import tqdm\n",
    "from pathlib import Path\n",
    "from time import time, sleep\n",
    "from fastprogress import progress_bar\n",
    "import gc\n",
    "import numpy as np\n",
    "import h5py\n",
    "from IPython.display import clear_output\n",
    "from collections import defaultdict\n",
    "from copy import deepcopy\n",
    "from typing import Any\n",
    "import itertools\n",
    "import pandas as pd\n",
    "\n",
    "# CV/MLe\n",
    "import cv2\n",
    "import torch\n",
    "from torch import Tensor as T\n",
    "import torch.nn.functional as F\n",
    "import kornia as K\n",
    "import kornia.feature as KF\n",
    "from PIL import Image\n",
    "from transformers import AutoImageProcessor, AutoModel\n",
    "\n",
    "import torch\n",
    "from lightglue import match_pair\n",
    "from lightglue import LightGlue, ALIKED\n",
    "from lightglue.utils import load_image, rbd\n",
    "\n",
    "# 3D reconstruction\n",
    "import pycolmap\n",
    "\n",
    "# Data importing into colmap\n",
    "import sys\n",
    "sys.path.append(\"/kaggle/input/colmap-db-import\")\n",
    "\n",
    "# Provided by organizers\n",
    "from database import *\n",
    "from h5_to_db import *\n",
    "\n",
    "def arr_to_str(a):\n",
    "    \"\"\"Returns ;-separated string representing the input\"\"\"\n",
    "    return \";\".join([str(x) for x in a.reshape(-1)])\n",
    "\n",
    "def load_torch_image(file_name: Path | str, device=torch.device(\"cpu\")):\n",
    "    \"\"\"Loads an image and adds batch dimension\"\"\"\n",
    "    img = K.io.load_image(file_name, K.io.ImageLoadType.RGB32, device=device)[None, ...]\n",
    "    return img\n",
    "\n",
    "device = K.utils.get_cuda_device_if_available(0)\n",
    "print(device)\n",
    "\n",
    "DEBUG = len([p for p in Path(\"/kaggle/input/image-matching-challenge-2024/test/\").iterdir() if p.is_dir()]) == 2\n",
    "print(\"DEBUG:\", DEBUG)"
   ]
  },
  {
   "cell_type": "markdown",
   "id": "3353bdad",
   "metadata": {
    "papermill": {
     "duration": 0.009684,
     "end_time": "2024-05-07T18:15:01.514621",
     "exception": false,
     "start_time": "2024-05-07T18:15:01.504937",
     "status": "completed"
    },
    "tags": []
   },
   "source": [
    "<a id=\"1\"></a>\n",
    "# Finding image pairs\n",
    "\n",
    "To find pairs of similar images, we use [DINOv2](https://arxiv.org/pdf/2304.07193.pdf) to obtain normalized image embeddings.\n",
    "\n",
    "<center><img src=\"https://www.labellerr.com/blog/content/images/2023/05/Dino-v2-20230419.jpg\" alt=\"DINOv2 example\"></center> \n",
    "Then, we calculate the distances between all the embeddings, and only keep those below a given distance threshold. For images with less than a set minimum number of pairs, the closest ones are kept instead."
   ]
  },
  {
   "cell_type": "code",
   "execution_count": 3,
   "id": "20e801ce",
   "metadata": {
    "execution": {
     "iopub.execute_input": "2024-05-07T18:15:01.536006Z",
     "iopub.status.busy": "2024-05-07T18:15:01.535301Z",
     "iopub.status.idle": "2024-05-07T18:15:01.543791Z",
     "shell.execute_reply": "2024-05-07T18:15:01.542935Z"
    },
    "papermill": {
     "duration": 0.021289,
     "end_time": "2024-05-07T18:15:01.545710",
     "exception": false,
     "start_time": "2024-05-07T18:15:01.524421",
     "status": "completed"
    },
    "tags": []
   },
   "outputs": [],
   "source": [
    "def embed_images(\n",
    "    paths: list[Path],\n",
    "    model_name: str,\n",
    "    device: torch.device = torch.device(\"cpu\"),\n",
    ") -> T:\n",
    "    \"\"\"Computes image embeddings.\n",
    "    \n",
    "    Returns a tensor of shape [len(filenames), output_dim]\n",
    "    \"\"\"\n",
    "    processor = AutoImageProcessor.from_pretrained(model_name)\n",
    "    model = AutoModel.from_pretrained(model_name).eval().to(device)\n",
    "    \n",
    "    embeddings = []\n",
    "    \n",
    "    for i, path in tqdm(enumerate(paths), desc=\"Global descriptors\"):\n",
    "        image = load_torch_image(path)\n",
    "        \n",
    "        with torch.inference_mode():\n",
    "            inputs = processor(images=image, return_tensors=\"pt\", do_rescale=False).to(device)\n",
    "            outputs = model(**inputs) # last_hidden_state and pooled\n",
    "            \n",
    "            # Max pooling over all the hidden states but the first (starting token)\n",
    "            # To obtain a tensor of shape [1, output_dim]\n",
    "            # We normalize so that distances are computed in a better fashion later\n",
    "            embedding = F.normalize(outputs.last_hidden_state[:,1:].max(dim=1)[0], dim=-1, p=2)\n",
    "            \n",
    "        embeddings.append(embedding.detach().cpu())\n",
    "    return torch.cat(embeddings, dim=0)"
   ]
  },
  {
   "cell_type": "code",
   "execution_count": 4,
   "id": "d33a46dc",
   "metadata": {
    "execution": {
     "iopub.execute_input": "2024-05-07T18:15:01.566978Z",
     "iopub.status.busy": "2024-05-07T18:15:01.566694Z",
     "iopub.status.idle": "2024-05-07T18:15:01.577284Z",
     "shell.execute_reply": "2024-05-07T18:15:01.576370Z"
    },
    "papermill": {
     "duration": 0.023347,
     "end_time": "2024-05-07T18:15:01.579251",
     "exception": false,
     "start_time": "2024-05-07T18:15:01.555904",
     "status": "completed"
    },
    "tags": []
   },
   "outputs": [],
   "source": [
    "def get_pairs_exhaustive(lst: list[Any]) -> list[tuple[int, int]]:\n",
    "    \"\"\"Obtains all possible index pairs of a list\"\"\"\n",
    "    return list(itertools.combinations(range(len(lst)), 2))            \n",
    "    \n",
    "def get_image_pairs(\n",
    "    paths: list[Path],\n",
    "    model_name: str,\n",
    "    similarity_threshold: float = 0.6,\n",
    "    tolerance: int = 1000,\n",
    "    min_matches: int = 20,\n",
    "    exhaustive_if_less: int = 20,\n",
    "    p: float = 2.0,\n",
    "    device: torch.device = torch.device(\"cpu\"),\n",
    ") -> list[tuple[int, int]]:\n",
    "    \"\"\"Obtains pairs of similar images\"\"\"\n",
    "    if len(paths) <= exhaustive_if_less:\n",
    "        return get_pairs_exhaustive(paths)\n",
    "    \n",
    "    matches = []\n",
    "    \n",
    "    # Embed images and compute distances for filtering\n",
    "    embeddings = embed_images(paths, model_name)\n",
    "    distances = torch.cdist(embeddings, embeddings, p=p)\n",
    "    \n",
    "    # Remove pairs above similarity threshold (if enough)\n",
    "    mask = distances <= similarity_threshold\n",
    "    image_indices = np.arange(len(paths))\n",
    "    \n",
    "    for current_image_index in range(len(paths)):\n",
    "        mask_row = mask[current_image_index]\n",
    "        indices_to_match = image_indices[mask_row]\n",
    "        \n",
    "        # We don't have enough matches below the threshold, we pick most similar ones\n",
    "        if len(indices_to_match) < min_matches:\n",
    "            indices_to_match = np.argsort(distances[current_image_index])[:min_matches]\n",
    "            \n",
    "        for other_image_index in indices_to_match:\n",
    "            # Skip an image matching itself\n",
    "            if other_image_index == current_image_index:\n",
    "                continue\n",
    "            \n",
    "            # We need to check if we are below a certain distance tolerance \n",
    "            # since for images that don't have enough matches, we picked\n",
    "            # the most similar ones (which could all still be very different \n",
    "            # to the image we are analyzing)\n",
    "            if distances[current_image_index, other_image_index] < tolerance:\n",
    "                # Add the pair in a sorted manner to avoid redundancy\n",
    "                matches.append(tuple(sorted((current_image_index, other_image_index.item()))))\n",
    "                \n",
    "    return sorted(list(set(matches)))"
   ]
  },
  {
   "cell_type": "code",
   "execution_count": 5,
   "id": "05694e70",
   "metadata": {
    "execution": {
     "iopub.execute_input": "2024-05-07T18:15:01.600184Z",
     "iopub.status.busy": "2024-05-07T18:15:01.599891Z",
     "iopub.status.idle": "2024-05-07T18:15:01.604575Z",
     "shell.execute_reply": "2024-05-07T18:15:01.603611Z"
    },
    "papermill": {
     "duration": 0.017318,
     "end_time": "2024-05-07T18:15:01.606543",
     "exception": false,
     "start_time": "2024-05-07T18:15:01.589225",
     "status": "completed"
    },
    "tags": []
   },
   "outputs": [],
   "source": [
    "if DEBUG:\n",
    "    images_list = list(Path(\"/kaggle/input/image-matching-challenge-2024/test/church/images/\").glob(\"*.png\"))[:10]\n",
    "    index_pairs = get_image_pairs(images_list, \"/kaggle/input/dinov2/pytorch/base/1\")\n",
    "    print(index_pairs)"
   ]
  },
  {
   "cell_type": "markdown",
   "id": "28755271",
   "metadata": {
    "papermill": {
     "duration": 0.009603,
     "end_time": "2024-05-07T18:15:01.625959",
     "exception": false,
     "start_time": "2024-05-07T18:15:01.616356",
     "status": "completed"
    },
    "tags": []
   },
   "source": [
    "<a id=\"2\"></a>\n",
    "# Computing keypoints\n",
    "\n",
    "In order to be able to know the position of each camera, we must be able to relate images to each other. For this, we extract relevant keypoints and compare pairs of image keypoints against each other. There are many ways to extract relevant keypoints, the most traditional one being [SIFT](https://en.wikipedia.org/wiki/Scale-invariant_feature_transform). However, newer and improved methods exist now, one of which is [ALIKED](https://arxiv.org/abs/2304.03608), the keypoint extraction method used in the solution.\n",
    "\n",
    "<center><img src=\"https://www.catalyzex.com/_next/image?url=https%3A%2F%2Fd3i71xaburhd42.cloudfront.net%2Faf9fc17471b4c38211c3d9f5058c9c1f59501eea%2F3-Figure1-1.png&w=640&q=75\" alt=\"ALIKED architecture\"></center> \n",
    "\n",
    "\n",
    "Let's take a closer look at the keypoints that ALIKED extracts."
   ]
  },
  {
   "cell_type": "code",
   "execution_count": 6,
   "id": "879462b9",
   "metadata": {
    "execution": {
     "iopub.execute_input": "2024-05-07T18:15:01.647149Z",
     "iopub.status.busy": "2024-05-07T18:15:01.646864Z",
     "iopub.status.idle": "2024-05-07T18:15:01.654115Z",
     "shell.execute_reply": "2024-05-07T18:15:01.653243Z"
    },
    "papermill": {
     "duration": 0.020044,
     "end_time": "2024-05-07T18:15:01.656044",
     "exception": false,
     "start_time": "2024-05-07T18:15:01.636000",
     "status": "completed"
    },
    "tags": []
   },
   "outputs": [],
   "source": [
    "if DEBUG:\n",
    "    dtype = torch.float32 # ALIKED has issues with float16\n",
    "\n",
    "    extractor = ALIKED(\n",
    "            max_num_keypoints=4096, \n",
    "            detection_threshold=0.025, \n",
    "            resize=1024\n",
    "        ).eval().to(device, dtype)\n",
    "\n",
    "    path = images_list[0]\n",
    "    image = load_torch_image(path, device=device).to(dtype)\n",
    "    features = extractor.extract(image)\n",
    "\n",
    "    fig, ax = plt.subplots(1, 2, figsize=(10, 20))\n",
    "    ax[0].imshow(image[0, ...].permute(1,2,0).cpu())\n",
    "    ax[1].imshow(image[0, ...].permute(1,2,0).cpu())\n",
    "    ax[1].scatter(features[\"keypoints\"][0, :, 0].cpu(), features[\"keypoints\"][0, :, 1].cpu(), s=0.5, c=\"red\")\n",
    "\n",
    "    del extractor"
   ]
  },
  {
   "cell_type": "code",
   "execution_count": 7,
   "id": "024649ba",
   "metadata": {
    "execution": {
     "iopub.execute_input": "2024-05-07T18:15:01.677308Z",
     "iopub.status.busy": "2024-05-07T18:15:01.677040Z",
     "iopub.status.idle": "2024-05-07T18:15:01.685629Z",
     "shell.execute_reply": "2024-05-07T18:15:01.684753Z"
    },
    "papermill": {
     "duration": 0.021283,
     "end_time": "2024-05-07T18:15:01.687433",
     "exception": false,
     "start_time": "2024-05-07T18:15:01.666150",
     "status": "completed"
    },
    "tags": []
   },
   "outputs": [],
   "source": [
    "def detect_keypoints(\n",
    "    paths: list[Path],\n",
    "    feature_dir: Path,\n",
    "    num_features: int = 4096,\n",
    "    resize_to: int = 1024,\n",
    "    device: torch.device = torch.device(\"cpu\"),\n",
    ") -> None:\n",
    "    \"\"\"Detects the keypoints in a list of images with ALIKED\n",
    "    \n",
    "    Stores them in feature_dir/keypoints.h5 and feature_dir/descriptors.h5\n",
    "    to be used later with LightGlue\n",
    "    \"\"\"\n",
    "    dtype = torch.float32 # ALIKED has issues with float16\n",
    "    \n",
    "    extractor = ALIKED(\n",
    "        max_num_keypoints=num_features, \n",
    "        detection_threshold=0.01, \n",
    "        resize=resize_to\n",
    "    ).eval().to(device, dtype)\n",
    "    \n",
    "    feature_dir.mkdir(parents=True, exist_ok=True)\n",
    "    \n",
    "    with h5py.File(feature_dir / \"keypoints.h5\", mode=\"w\") as f_keypoints, \\\n",
    "         h5py.File(feature_dir / \"descriptors.h5\", mode=\"w\") as f_descriptors:\n",
    "        \n",
    "        for path in tqdm(paths, desc=\"Computing keypoints\"):\n",
    "            key = path.name\n",
    "            \n",
    "            with torch.inference_mode():\n",
    "                image = load_torch_image(path, device=device).to(dtype)\n",
    "                features = extractor.extract(image)\n",
    "                \n",
    "                f_keypoints[key] = features[\"keypoints\"].squeeze().detach().cpu().numpy()\n",
    "                f_descriptors[key] = features[\"descriptors\"].squeeze().detach().cpu().numpy()"
   ]
  },
  {
   "cell_type": "code",
   "execution_count": 8,
   "id": "7e44d103",
   "metadata": {
    "execution": {
     "iopub.execute_input": "2024-05-07T18:15:01.708067Z",
     "iopub.status.busy": "2024-05-07T18:15:01.707795Z",
     "iopub.status.idle": "2024-05-07T18:15:01.711776Z",
     "shell.execute_reply": "2024-05-07T18:15:01.710914Z"
    },
    "papermill": {
     "duration": 0.016369,
     "end_time": "2024-05-07T18:15:01.713650",
     "exception": false,
     "start_time": "2024-05-07T18:15:01.697281",
     "status": "completed"
    },
    "tags": []
   },
   "outputs": [],
   "source": [
    "if DEBUG:\n",
    "    feature_dir = Path(\"./sample_test_features\")\n",
    "    detect_keypoints(images_list, feature_dir)"
   ]
  },
  {
   "cell_type": "markdown",
   "id": "95afe757",
   "metadata": {
    "papermill": {
     "duration": 0.009767,
     "end_time": "2024-05-07T18:15:01.733368",
     "exception": false,
     "start_time": "2024-05-07T18:15:01.723601",
     "status": "completed"
    },
    "tags": []
   },
   "source": [
    "<a id=\"3\"></a>\n",
    "# Match and compute keypoint distances\n",
    "\n",
    "Now that we have the relevant image pairs and keypoints, we can go ahead and compare the keypoints of the images in a pair to find a good relationship between them. This is done with [LightGlue](https://arxiv.org/abs/2306.13643), which matches the keypoints and their descriptors between two images.\n",
    "\n",
    "<center><img src=\"https://external-content.duckduckgo.com/iu/?u=https%3A%2F%2Fraw.githubusercontent.com%2Fcvg%2Flightglue%2Fmaster%2Fassets%2Feasy_hard.jpg&f=1&nofb=1&ipt=60962b56b05d3e8f95a064ab2a6010e5a6cbd5f1d10379d90e660b2561a3bae9&ipo=images\" alt=\"LightGlue example\"></center> "
   ]
  },
  {
   "cell_type": "code",
   "execution_count": 9,
   "id": "ac82b407",
   "metadata": {
    "execution": {
     "iopub.execute_input": "2024-05-07T18:15:01.754353Z",
     "iopub.status.busy": "2024-05-07T18:15:01.754091Z",
     "iopub.status.idle": "2024-05-07T18:15:01.762976Z",
     "shell.execute_reply": "2024-05-07T18:15:01.762151Z"
    },
    "papermill": {
     "duration": 0.021481,
     "end_time": "2024-05-07T18:15:01.764802",
     "exception": false,
     "start_time": "2024-05-07T18:15:01.743321",
     "status": "completed"
    },
    "tags": []
   },
   "outputs": [],
   "source": [
    "if DEBUG:\n",
    "    matcher_params = {\n",
    "        \"width_confidence\": -1,\n",
    "        \"depth_confidence\": -1,\n",
    "        \"mp\": True if 'cuda' in str(device) else False,\n",
    "    }\n",
    "    matcher = KF.LightGlueMatcher(\"aliked\", matcher_params).eval().to(device)\n",
    "\n",
    "    with h5py.File(feature_dir / \"keypoints.h5\", mode=\"r\") as f_keypoints, \\\n",
    "         h5py.File(feature_dir / \"descriptors.h5\", mode=\"r\") as f_descriptors:\n",
    "            idx1, idx2 = index_pairs[0]\n",
    "            key1, key2 = images_list[idx1].name, images_list[idx2].name\n",
    "\n",
    "            keypoints1 = torch.from_numpy(f_keypoints[key1][...]).to(device)\n",
    "            keypoints2 = torch.from_numpy(f_keypoints[key2][...]).to(device)\n",
    "            print(\"Keypoints:\", keypoints1.shape, keypoints2.shape)\n",
    "            descriptors1 = torch.from_numpy(f_descriptors[key1][...]).to(device)\n",
    "            descriptors2 = torch.from_numpy(f_descriptors[key2][...]).to(device)\n",
    "            print(\"Descriptors:\", descriptors1.shape, descriptors2.shape)\n",
    "\n",
    "            with torch.inference_mode():\n",
    "                distances, indices = matcher(\n",
    "                    descriptors1, \n",
    "                    descriptors2, \n",
    "                    KF.laf_from_center_scale_ori(keypoints1[None]),\n",
    "                    KF.laf_from_center_scale_ori(keypoints2[None]),\n",
    "                )\n",
    "    print(distances, indices)"
   ]
  },
  {
   "cell_type": "code",
   "execution_count": 10,
   "id": "ea3fb3ae",
   "metadata": {
    "execution": {
     "iopub.execute_input": "2024-05-07T18:15:01.785814Z",
     "iopub.status.busy": "2024-05-07T18:15:01.785559Z",
     "iopub.status.idle": "2024-05-07T18:15:01.796782Z",
     "shell.execute_reply": "2024-05-07T18:15:01.795883Z"
    },
    "papermill": {
     "duration": 0.0241,
     "end_time": "2024-05-07T18:15:01.798664",
     "exception": false,
     "start_time": "2024-05-07T18:15:01.774564",
     "status": "completed"
    },
    "tags": []
   },
   "outputs": [],
   "source": [
    "def keypoint_distances(\n",
    "    paths: list[Path],\n",
    "    index_pairs: list[tuple[int, int]],\n",
    "    feature_dir: Path,\n",
    "    min_matches: int = 15,\n",
    "    verbose: bool = True,\n",
    "    device: torch.device = torch.device(\"cpu\"),\n",
    ") -> None:\n",
    "    \"\"\"Computes distances between keypoints of images.\n",
    "    \n",
    "    Stores output at feature_dir/matches.h5\n",
    "    \"\"\"\n",
    "    \n",
    "    matcher_params = {\n",
    "        \"width_confidence\": -1,\n",
    "        \"depth_confidence\": -1,\n",
    "        \"mp\": True if 'cuda' in str(device) else False,\n",
    "    }\n",
    "    matcher = KF.LightGlueMatcher(\"aliked\", matcher_params).eval().to(device)\n",
    "    \n",
    "    with h5py.File(feature_dir / \"keypoints.h5\", mode=\"r\") as f_keypoints, \\\n",
    "         h5py.File(feature_dir / \"descriptors.h5\", mode=\"r\") as f_descriptors, \\\n",
    "         h5py.File(feature_dir / \"matches.h5\", mode=\"w\") as f_matches:\n",
    "        \n",
    "            for idx1, idx2 in tqdm(index_pairs, desc=\"Computing keypoing distances\"):\n",
    "                key1, key2 = paths[idx1].name, paths[idx2].name\n",
    "\n",
    "                keypoints1 = torch.from_numpy(f_keypoints[key1][...]).to(device)\n",
    "                keypoints2 = torch.from_numpy(f_keypoints[key2][...]).to(device)\n",
    "                descriptors1 = torch.from_numpy(f_descriptors[key1][...]).to(device)\n",
    "                descriptors2 = torch.from_numpy(f_descriptors[key2][...]).to(device)\n",
    "\n",
    "                with torch.inference_mode():\n",
    "                    distances, indices = matcher(\n",
    "                        descriptors1, \n",
    "                        descriptors2, \n",
    "                        KF.laf_from_center_scale_ori(keypoints1[None]),\n",
    "                        KF.laf_from_center_scale_ori(keypoints2[None]),\n",
    "                    )\n",
    "\n",
    "                # We have matches to consider\n",
    "                n_matches = len(indices)\n",
    "                if n_matches:\n",
    "                    if verbose:\n",
    "                        print(f\"{key1}-{key2}: {n_matches} matches\")\n",
    "                    # Store the matches in the group of one image\n",
    "                    if n_matches >= min_matches:\n",
    "                        group  = f_matches.require_group(key1)\n",
    "                        group.create_dataset(key2, data=indices.detach().cpu().numpy().reshape(-1, 2))"
   ]
  },
  {
   "cell_type": "code",
   "execution_count": 11,
   "id": "91839aae",
   "metadata": {
    "execution": {
     "iopub.execute_input": "2024-05-07T18:15:01.820020Z",
     "iopub.status.busy": "2024-05-07T18:15:01.819320Z",
     "iopub.status.idle": "2024-05-07T18:15:01.823414Z",
     "shell.execute_reply": "2024-05-07T18:15:01.822563Z"
    },
    "papermill": {
     "duration": 0.016634,
     "end_time": "2024-05-07T18:15:01.825275",
     "exception": false,
     "start_time": "2024-05-07T18:15:01.808641",
     "status": "completed"
    },
    "tags": []
   },
   "outputs": [],
   "source": [
    "if DEBUG:\n",
    "    keypoint_distances(images_list, index_pairs, feature_dir, verbose=False)"
   ]
  },
  {
   "cell_type": "markdown",
   "id": "1c4e87dc",
   "metadata": {
    "papermill": {
     "duration": 0.0095,
     "end_time": "2024-05-07T18:15:01.844672",
     "exception": false,
     "start_time": "2024-05-07T18:15:01.835172",
     "status": "completed"
    },
    "tags": []
   },
   "source": [
    "<a id=\"4\"></a>\n",
    "# RANSAC\n",
    "Up to now, we have matched keypoints and their descriptors extracted from pairs of images. This is described by a [fundamental matrix](https://en.wikipedia.org/wiki/Fundamental_matrix_(computer_vision)) denoted as $F$. In epipolar geometry, with homogeneous image coordinates, $x$ and $x′$, of corresponding points in a stereo image pair, $Fx$ describes a line (an epipolar line) on which the corresponding point $x′$ on the other image must lie. That means, for all pairs of corresponding points, $x'Fx = 0$ holds. This is known as epipolar constraint or correspondance condition (or Longuet-Higgins equation), and is solved via the [eight-point algorithm](https://en.wikipedia.org/wiki/Eight-point_algorithm).\n",
    "\n",
    "<center><img src=\"https://cmsc426.github.io/assets/sfm/epipole1.png\" alt=\"Fundamental matrix\"></center>\n",
    "\n",
    "Since the keypoint correspondences are computed using feature descriptors, the data is bound to be noisy and (in general) contains several outliers. Thus, to remove these outliers, we use a [RANSAC](https://en.wikipedia.org/wiki/Random_sample_consensus) algorithm to find the best possible fundamental matrix. So, out of all possibilities, the $F$ matrix with maximum number of inliers is chosen.\n",
    "\n",
    "<center><img src=\"https://cmsc426.github.io/assets/sfm/ransac.png\" alt=\"RANSAC\"></center>"
   ]
  },
  {
   "cell_type": "code",
   "execution_count": 12,
   "id": "a272e343",
   "metadata": {
    "execution": {
     "iopub.execute_input": "2024-05-07T18:15:01.865399Z",
     "iopub.status.busy": "2024-05-07T18:15:01.865133Z",
     "iopub.status.idle": "2024-05-07T18:15:01.870240Z",
     "shell.execute_reply": "2024-05-07T18:15:01.869473Z"
    },
    "papermill": {
     "duration": 0.017735,
     "end_time": "2024-05-07T18:15:01.872078",
     "exception": false,
     "start_time": "2024-05-07T18:15:01.854343",
     "status": "completed"
    },
    "tags": []
   },
   "outputs": [],
   "source": [
    "def import_into_colmap(\n",
    "    path: Path,\n",
    "    feature_dir: Path,\n",
    "    database_path: str = \"colmap.db\",\n",
    ") -> None:\n",
    "    \"\"\"Adds keypoints into colmap\"\"\"\n",
    "    db = COLMAPDatabase.connect(database_path)\n",
    "    db.create_tables()\n",
    "    single_camera = False\n",
    "    fname_to_id = add_keypoints(db, feature_dir, path, \"\", \"simple-pinhole\", single_camera)\n",
    "    add_matches(\n",
    "        db,\n",
    "        feature_dir,\n",
    "        fname_to_id,\n",
    "    )\n",
    "    db.commit()"
   ]
  },
  {
   "cell_type": "code",
   "execution_count": 13,
   "id": "d37cc16e",
   "metadata": {
    "execution": {
     "iopub.execute_input": "2024-05-07T18:15:01.892787Z",
     "iopub.status.busy": "2024-05-07T18:15:01.892540Z",
     "iopub.status.idle": "2024-05-07T18:15:01.897098Z",
     "shell.execute_reply": "2024-05-07T18:15:01.896175Z"
    },
    "papermill": {
     "duration": 0.017013,
     "end_time": "2024-05-07T18:15:01.899026",
     "exception": false,
     "start_time": "2024-05-07T18:15:01.882013",
     "status": "completed"
    },
    "tags": []
   },
   "outputs": [],
   "source": [
    "if DEBUG:\n",
    "    database_path = \"colmap.db\"\n",
    "    images_dir = images_list[0].parent\n",
    "    import_into_colmap(\n",
    "        images_dir, \n",
    "        feature_dir, \n",
    "        database_path,\n",
    "    )\n",
    "\n",
    "    # This does RANSAC\n",
    "    pycolmap.match_exhaustive(database_path)"
   ]
  },
  {
   "cell_type": "markdown",
   "id": "b5aa3429",
   "metadata": {
    "papermill": {
     "duration": 0.009592,
     "end_time": "2024-05-07T18:15:01.918467",
     "exception": false,
     "start_time": "2024-05-07T18:15:01.908875",
     "status": "completed"
    },
    "tags": []
   },
   "source": [
    "<a id=\"5\"></a>\n",
    "# Sparse Reconstruction\n",
    "\n",
    "Now we have similar image pairs, with matched keypoint descriptors, without outliers! All that is left is to construct the scene and obtain the camera positions. We do this with pycolmap, which offers an incremental reconstruction algorithm that starts from two pairs of images and continually adds more and more images to the scene, resulting in a reconstructed scene with camera information. We can then use the camera rotation and translation as our submission!"
   ]
  },
  {
   "cell_type": "code",
   "execution_count": 14,
   "id": "6be71cbd",
   "metadata": {
    "_kg_hide-output": true,
    "execution": {
     "iopub.execute_input": "2024-05-07T18:15:01.938983Z",
     "iopub.status.busy": "2024-05-07T18:15:01.938731Z",
     "iopub.status.idle": "2024-05-07T18:15:01.943468Z",
     "shell.execute_reply": "2024-05-07T18:15:01.942581Z"
    },
    "papermill": {
     "duration": 0.017245,
     "end_time": "2024-05-07T18:15:01.945391",
     "exception": false,
     "start_time": "2024-05-07T18:15:01.928146",
     "status": "completed"
    },
    "tags": []
   },
   "outputs": [],
   "source": [
    "if DEBUG:\n",
    "    mapper_options = pycolmap.IncrementalPipelineOptions()\n",
    "    mapper_options.min_model_size = 3\n",
    "    mapper_options.max_num_models = 2\n",
    "\n",
    "    maps = pycolmap.incremental_mapping(\n",
    "        database_path=database_path, \n",
    "        image_path=images_dir,\n",
    "        output_path=Path.cwd() / \"incremental_pipeline_outputs\", \n",
    "        options=mapper_options,\n",
    "    )"
   ]
  },
  {
   "cell_type": "code",
   "execution_count": 15,
   "id": "b52551d7",
   "metadata": {
    "execution": {
     "iopub.execute_input": "2024-05-07T18:15:01.965907Z",
     "iopub.status.busy": "2024-05-07T18:15:01.965637Z",
     "iopub.status.idle": "2024-05-07T18:15:01.970622Z",
     "shell.execute_reply": "2024-05-07T18:15:01.969785Z"
    },
    "papermill": {
     "duration": 0.017536,
     "end_time": "2024-05-07T18:15:01.972588",
     "exception": false,
     "start_time": "2024-05-07T18:15:01.955052",
     "status": "completed"
    },
    "tags": []
   },
   "outputs": [],
   "source": [
    "if DEBUG:\n",
    "    print(maps[0].summary())\n",
    "    for k, im in maps[0].images.items():\n",
    "        print(\"Rotation\", im.cam_from_world.rotation.matrix(), \"Translation:\", im.cam_from_world.translation, sep=\"\\n\")\n",
    "        print()"
   ]
  },
  {
   "cell_type": "markdown",
   "id": "2eb25571",
   "metadata": {
    "papermill": {
     "duration": 0.00952,
     "end_time": "2024-05-07T18:15:01.991950",
     "exception": false,
     "start_time": "2024-05-07T18:15:01.982430",
     "status": "completed"
    },
    "tags": []
   },
   "source": [
    "# Running everything"
   ]
  },
  {
   "cell_type": "code",
   "execution_count": 16,
   "id": "d7fb2d05",
   "metadata": {
    "_kg_hide-input": true,
    "execution": {
     "iopub.execute_input": "2024-05-07T18:15:02.012904Z",
     "iopub.status.busy": "2024-05-07T18:15:02.012617Z",
     "iopub.status.idle": "2024-05-07T18:15:02.020611Z",
     "shell.execute_reply": "2024-05-07T18:15:02.019738Z"
    },
    "papermill": {
     "duration": 0.020578,
     "end_time": "2024-05-07T18:15:02.022451",
     "exception": false,
     "start_time": "2024-05-07T18:15:02.001873",
     "status": "completed"
    },
    "tags": []
   },
   "outputs": [],
   "source": [
    "def parse_sample_submission(\n",
    "    base_path: Path,\n",
    ") -> dict[dict[str, list[Path]]]:\n",
    "    \"\"\"Construct a dict describing the test data as \n",
    "    \n",
    "    {\"dataset\": {\"scene\": [<image paths>]}}\n",
    "    \"\"\"\n",
    "    data_dict = {}\n",
    "    with open(base_path / \"sample_submission.csv\", \"r\") as f:\n",
    "        for i, l in enumerate(f):\n",
    "            # Skip header\n",
    "            if i == 0:\n",
    "                print(\"header:\", l)\n",
    "\n",
    "            if l and i > 0:\n",
    "                image_path, dataset, scene, _, _ = l.strip().split(',')\n",
    "                if dataset not in data_dict:\n",
    "                    data_dict[dataset] = {}\n",
    "                if scene not in data_dict[dataset]:\n",
    "                    data_dict[dataset][scene] = []\n",
    "                data_dict[dataset][scene].append(Path(base_path / image_path))\n",
    "\n",
    "    for dataset in data_dict:\n",
    "        for scene in data_dict[dataset]:\n",
    "            print(f\"{dataset} / {scene} -> {len(data_dict[dataset][scene])} images\")\n",
    "\n",
    "    return data_dict"
   ]
  },
  {
   "cell_type": "code",
   "execution_count": 17,
   "id": "a45832e1",
   "metadata": {
    "_kg_hide-input": true,
    "execution": {
     "iopub.execute_input": "2024-05-07T18:15:02.043008Z",
     "iopub.status.busy": "2024-05-07T18:15:02.042729Z",
     "iopub.status.idle": "2024-05-07T18:15:02.051313Z",
     "shell.execute_reply": "2024-05-07T18:15:02.050461Z"
    },
    "papermill": {
     "duration": 0.021049,
     "end_time": "2024-05-07T18:15:02.053185",
     "exception": false,
     "start_time": "2024-05-07T18:15:02.032136",
     "status": "completed"
    },
    "tags": []
   },
   "outputs": [],
   "source": [
    "def create_submission(\n",
    "    results: dict,\n",
    "    data_dict: dict[dict[str, list[Path]]],\n",
    "    base_path: Path,\n",
    ") -> None:\n",
    "    \"\"\"Prepares a submission file.\"\"\"\n",
    "    \n",
    "    with open(\"submission.csv\", \"w\") as f:\n",
    "        f.write(\"image_path,dataset,scene,rotation_matrix,translation_vector\\n\")\n",
    "        \n",
    "        for dataset in data_dict:\n",
    "            # Only write results for datasets with images that have results \n",
    "            if dataset in results:\n",
    "                res = results[dataset]\n",
    "            else:\n",
    "                res = {}\n",
    "            \n",
    "            # Same for scenes\n",
    "            for scene in data_dict[dataset]:\n",
    "                if scene in res:\n",
    "                    scene_res = res[scene]\n",
    "                else:\n",
    "                    scene_res = {\"R\":{}, \"t\":{}}\n",
    "                    \n",
    "                # Write the row with rotation and translation matrices\n",
    "                for image in data_dict[dataset][scene]:\n",
    "                    if image in scene_res:\n",
    "                        print(image)\n",
    "                        R = scene_res[image][\"R\"].reshape(-1)\n",
    "                        T = scene_res[image][\"t\"].reshape(-1)\n",
    "                    else:\n",
    "                        R = np.eye(3).reshape(-1)\n",
    "                        T = np.zeros((3))\n",
    "                    image_path = str(image.relative_to(base_path))\n",
    "                    f.write(f\"{image_path},{dataset},{scene},{arr_to_str(R)},{arr_to_str(T)}\\n\")"
   ]
  },
  {
   "cell_type": "code",
   "execution_count": 18,
   "id": "1b300ca6",
   "metadata": {
    "execution": {
     "iopub.execute_input": "2024-05-07T18:15:02.073774Z",
     "iopub.status.busy": "2024-05-07T18:15:02.073506Z",
     "iopub.status.idle": "2024-05-07T18:15:02.079808Z",
     "shell.execute_reply": "2024-05-07T18:15:02.078930Z"
    },
    "papermill": {
     "duration": 0.018813,
     "end_time": "2024-05-07T18:15:02.081764",
     "exception": false,
     "start_time": "2024-05-07T18:15:02.062951",
     "status": "completed"
    },
    "tags": []
   },
   "outputs": [],
   "source": [
    "class Config:\n",
    "    base_path: Path = Path(\"/kaggle/input/image-matching-challenge-2024\")\n",
    "    feature_dir: Path = Path.cwd() / \".feature_outputs\"\n",
    "        \n",
    "    device: torch.device = K.utils.get_cuda_device_if_available(0)\n",
    "    \n",
    "    pair_matching_args = {\n",
    "        \"model_name\": \"/kaggle/input/dinov2/pytorch/base/1\",\n",
    "        \"similarity_threshold\": 0.3,\n",
    "        \"tolerance\": 500,\n",
    "        \"min_matches\": 50,\n",
    "        \"exhaustive_if_less\": 50,\n",
    "        \"p\": 2.0,\n",
    "    }\n",
    "    \n",
    "    keypoint_detection_args = {\n",
    "        \"num_features\": 4096,\n",
    "        \"resize_to\": 1024,\n",
    "    }\n",
    "    \n",
    "    keypoint_distances_args = {\n",
    "        \"min_matches\": 15,\n",
    "        \"verbose\": False,\n",
    "    }\n",
    "    \n",
    "    colmap_mapper_options = {\n",
    "        \"min_model_size\": 3, # By default colmap does not generate a reconstruction if less than 10 images are registered. Lower it to 3.\n",
    "        \"max_num_models\": 2,\n",
    "    }"
   ]
  },
  {
   "cell_type": "code",
   "execution_count": 19,
   "id": "c048022d",
   "metadata": {
    "execution": {
     "iopub.execute_input": "2024-05-07T18:15:02.102513Z",
     "iopub.status.busy": "2024-05-07T18:15:02.102208Z",
     "iopub.status.idle": "2024-05-07T18:15:02.119703Z",
     "shell.execute_reply": "2024-05-07T18:15:02.118826Z"
    },
    "papermill": {
     "duration": 0.030325,
     "end_time": "2024-05-07T18:15:02.121696",
     "exception": false,
     "start_time": "2024-05-07T18:15:02.091371",
     "status": "completed"
    },
    "tags": []
   },
   "outputs": [],
   "source": [
    "def run_from_config(config: Config) -> None:\n",
    "    results = {}\n",
    "    \n",
    "    data_dict = parse_sample_submission(config.base_path)\n",
    "    datasets = list(data_dict.keys())\n",
    "    \n",
    "    for dataset in datasets:\n",
    "        if dataset not in results:\n",
    "            results[dataset] = {}\n",
    "            \n",
    "        for scene in data_dict[dataset]:\n",
    "            images_dir = data_dict[dataset][scene][0].parent\n",
    "            results[dataset][scene] = {}\n",
    "            image_paths = data_dict[dataset][scene]\n",
    "            print (f\"Got {len(image_paths)} images\")\n",
    "            \n",
    "            try:\n",
    "                feature_dir = config.feature_dir / f\"{dataset}_{scene}\"\n",
    "                feature_dir.mkdir(parents=True, exist_ok=True)\n",
    "                database_path = feature_dir / \"colmap.db\"\n",
    "                if database_path.exists():\n",
    "                    database_path.unlink()\n",
    "                \n",
    "                # 1. Get the pairs of images that are somewhat similar\n",
    "                index_pairs = get_image_pairs(\n",
    "                    image_paths,\n",
    "                    **config.pair_matching_args,\n",
    "                    device=config.device,\n",
    "                )\n",
    "                gc.collect()\n",
    "                \n",
    "                # 2. Detect keypoints of all images\n",
    "                detect_keypoints(\n",
    "                    image_paths,\n",
    "                    feature_dir,\n",
    "                    **config.keypoint_detection_args,\n",
    "                    device=device,\n",
    "                )\n",
    "                gc.collect()\n",
    "                \n",
    "                # 3. Match  keypoints of pairs of similar images\n",
    "                keypoint_distances(\n",
    "                    image_paths, \n",
    "                    index_pairs, \n",
    "                    feature_dir,\n",
    "                    **config.keypoint_distances_args,\n",
    "                    device=device,\n",
    "                )\n",
    "                gc.collect()\n",
    "                \n",
    "                sleep(1)\n",
    "                \n",
    "                # 4.1. Import keypoint distances of matches into colmap for RANSAC \n",
    "                import_into_colmap(\n",
    "                    images_dir, \n",
    "                    feature_dir, \n",
    "                    database_path,\n",
    "                )\n",
    "                \n",
    "                output_path = feature_dir / \"colmap_rec_aliked\"\n",
    "                output_path.mkdir(parents=True, exist_ok=True)\n",
    "                \n",
    "                # 4.2. Compute RANSAC (detect match outliers)\n",
    "                # By doing it exhaustively we guarantee we will find the best possible configuration\n",
    "                pycolmap.match_exhaustive(database_path)\n",
    "                \n",
    "                mapper_options = pycolmap.IncrementalPipelineOptions(**config.colmap_mapper_options)\n",
    "                \n",
    "                # 5.1 Incrementally start reconstructing the scene (sparse reconstruction)\n",
    "                # The process starts from a random pair of images and is incrementally extended by \n",
    "                # registering new images and triangulating new points.\n",
    "                maps = pycolmap.incremental_mapping(\n",
    "                    database_path=database_path, \n",
    "                    image_path=images_dir,\n",
    "                    output_path=output_path, \n",
    "                    options=mapper_options,\n",
    "                )\n",
    "                \n",
    "                print(maps)\n",
    "                clear_output(wait=False)\n",
    "                \n",
    "                # 5.2. Look for the best reconstruction: The incremental mapping offered by \n",
    "                # pycolmap attempts to reconstruct multiple models, we must pick the best one\n",
    "                images_registered  = 0\n",
    "                best_idx = None\n",
    "                \n",
    "                print (\"Looking for the best reconstruction\")\n",
    "            \n",
    "                if isinstance(maps, dict):\n",
    "                    for idx1, rec in maps.items():\n",
    "                        print(idx1, rec.summary())\n",
    "                        try:\n",
    "                            if len(rec.images) > images_registered:\n",
    "                                images_registered = len(rec.images)\n",
    "                                best_idx = idx1\n",
    "                        except Exception:\n",
    "                            continue\n",
    "                \n",
    "                # Parse the reconstruction object to get the rotation matrix and translation vector\n",
    "                # obtained for each image in the reconstruction\n",
    "                if best_idx is not None:\n",
    "                    for k, im in maps[best_idx].images.items():\n",
    "                        key = config.base_path / \"test\" / scene / \"images\" / im.name\n",
    "                        results[dataset][scene][key] = {}\n",
    "                        results[dataset][scene][key][\"R\"] = deepcopy(im.cam_from_world.rotation.matrix())\n",
    "                        results[dataset][scene][key][\"t\"] = deepcopy(np.array(im.cam_from_world.translation))\n",
    "                        \n",
    "                print(f\"Registered: {dataset} / {scene} -> {len(results[dataset][scene])} images\")\n",
    "                print(f\"Total: {dataset} / {scene} -> {len(data_dict[dataset][scene])} images\")\n",
    "                create_submission(results, data_dict, config.base_path)\n",
    "                gc.collect()\n",
    "            \n",
    "            except Exception as e:\n",
    "                print(e)"
   ]
  },
  {
   "cell_type": "code",
   "execution_count": 20,
   "id": "d092f74d",
   "metadata": {
    "execution": {
     "iopub.execute_input": "2024-05-07T18:15:02.143332Z",
     "iopub.status.busy": "2024-05-07T18:15:02.143040Z",
     "iopub.status.idle": "2024-05-07T18:21:02.617388Z",
     "shell.execute_reply": "2024-05-07T18:21:02.616271Z"
    },
    "papermill": {
     "duration": 360.487704,
     "end_time": "2024-05-07T18:21:02.619668",
     "exception": false,
     "start_time": "2024-05-07T18:15:02.131964",
     "status": "completed"
    },
    "tags": []
   },
   "outputs": [
    {
     "name": "stdout",
     "output_type": "stream",
     "text": [
      "Looking for the best reconstruction\n",
      "0 Reconstruction:\n",
      "\tnum_reg_images = 40\n",
      "\tnum_cameras = 40\n",
      "\tnum_points3D = 12326\n",
      "\tnum_observations = 63682\n",
      "\tmean_track_length = 5.16648\n",
      "\tmean_observations_per_image = 1592.05\n",
      "\tmean_reprojection_error = 0.91117\n",
      "Registered: church / church -> 40 images\n",
      "Total: church / church -> 41 images\n",
      "/kaggle/input/image-matching-challenge-2024/test/church/images/00046.png\n",
      "/kaggle/input/image-matching-challenge-2024/test/church/images/00090.png\n",
      "/kaggle/input/image-matching-challenge-2024/test/church/images/00092.png\n",
      "/kaggle/input/image-matching-challenge-2024/test/church/images/00087.png\n",
      "/kaggle/input/image-matching-challenge-2024/test/church/images/00050.png\n",
      "/kaggle/input/image-matching-challenge-2024/test/church/images/00068.png\n",
      "/kaggle/input/image-matching-challenge-2024/test/church/images/00083.png\n",
      "/kaggle/input/image-matching-challenge-2024/test/church/images/00096.png\n",
      "/kaggle/input/image-matching-challenge-2024/test/church/images/00069.png\n",
      "/kaggle/input/image-matching-challenge-2024/test/church/images/00081.png\n",
      "/kaggle/input/image-matching-challenge-2024/test/church/images/00042.png\n",
      "/kaggle/input/image-matching-challenge-2024/test/church/images/00018.png\n",
      "/kaggle/input/image-matching-challenge-2024/test/church/images/00030.png\n",
      "/kaggle/input/image-matching-challenge-2024/test/church/images/00024.png\n",
      "/kaggle/input/image-matching-challenge-2024/test/church/images/00032.png\n",
      "/kaggle/input/image-matching-challenge-2024/test/church/images/00026.png\n",
      "/kaggle/input/image-matching-challenge-2024/test/church/images/00037.png\n",
      "/kaggle/input/image-matching-challenge-2024/test/church/images/00008.png\n",
      "/kaggle/input/image-matching-challenge-2024/test/church/images/00035.png\n",
      "/kaggle/input/image-matching-challenge-2024/test/church/images/00021.png\n",
      "/kaggle/input/image-matching-challenge-2024/test/church/images/00010.png\n",
      "/kaggle/input/image-matching-challenge-2024/test/church/images/00039.png\n",
      "/kaggle/input/image-matching-challenge-2024/test/church/images/00011.png\n",
      "/kaggle/input/image-matching-challenge-2024/test/church/images/00013.png\n",
      "/kaggle/input/image-matching-challenge-2024/test/church/images/00006.png\n",
      "/kaggle/input/image-matching-challenge-2024/test/church/images/00012.png\n",
      "/kaggle/input/image-matching-challenge-2024/test/church/images/00029.png\n",
      "/kaggle/input/image-matching-challenge-2024/test/church/images/00001.png\n",
      "/kaggle/input/image-matching-challenge-2024/test/church/images/00072.png\n",
      "/kaggle/input/image-matching-challenge-2024/test/church/images/00066.png\n",
      "/kaggle/input/image-matching-challenge-2024/test/church/images/00104.png\n",
      "/kaggle/input/image-matching-challenge-2024/test/church/images/00058.png\n",
      "/kaggle/input/image-matching-challenge-2024/test/church/images/00059.png\n",
      "/kaggle/input/image-matching-challenge-2024/test/church/images/00111.png\n",
      "/kaggle/input/image-matching-challenge-2024/test/church/images/00061.png\n",
      "/kaggle/input/image-matching-challenge-2024/test/church/images/00060.png\n",
      "/kaggle/input/image-matching-challenge-2024/test/church/images/00074.png\n",
      "/kaggle/input/image-matching-challenge-2024/test/church/images/00102.png\n",
      "/kaggle/input/image-matching-challenge-2024/test/church/images/00076.png\n",
      "/kaggle/input/image-matching-challenge-2024/test/church/images/00063.png\n"
     ]
    }
   ],
   "source": [
    "run_from_config(Config)"
   ]
  },
  {
   "cell_type": "code",
   "execution_count": 21,
   "id": "04a1474c",
   "metadata": {
    "execution": {
     "iopub.execute_input": "2024-05-07T18:21:02.642500Z",
     "iopub.status.busy": "2024-05-07T18:21:02.642148Z",
     "iopub.status.idle": "2024-05-07T18:21:03.614704Z",
     "shell.execute_reply": "2024-05-07T18:21:03.613622Z"
    },
    "papermill": {
     "duration": 0.986456,
     "end_time": "2024-05-07T18:21:03.616999",
     "exception": false,
     "start_time": "2024-05-07T18:21:02.630543",
     "status": "completed"
    },
    "tags": []
   },
   "outputs": [
    {
     "name": "stdout",
     "output_type": "stream",
     "text": [
      "image_path,dataset,scene,rotation_matrix,translation_vector\r\n",
      "test/church/images/00046.png,church,church,-0.2148718310504878;-0.34231153572918366;-0.9146873283957415;0.3643943528565801;0.8408319427573536;-0.40027290645899166;0.9061163566712862;-0.41931426942762434;-0.05593470860863348,5.9089883138060975;5.058917799864645;11.158787383239574\r\n",
      "test/church/images/00090.png,church,church,0.9986608510130663;0.0005879780413454213;-0.051731604804810545;-0.010153369489192411;0.982716587289602;-0.18483781581130512;0.050728825551890504;0.18511554053536652;0.9814065533255956,0.029051566605663187;-0.04289275148268985;-0.7597431121359244\r\n",
      "test/church/images/00092.png,church,church,0.9389910657689402;-0.12292834275942267;-0.3212232883097545;0.14257865283669155;0.9890426820278413;0.038287085060744366;0.3129969746840758;-0.0817508145133514;0.9462291995943792,0.21056066344594904;-0.16008266658490855;-0.5703721338631094\r\n",
      "test/church/images/00087.png,church,church,0.8816621424961325;-0.1634307344515527;-0.4426762491096122;0.1813543308155307;0.9834160438243938;-0.0018685404006914264;0.43564030252443403;-0.07863383359218869;0.8966795676444377,0.9381285998379205;-0.10211512414430624;-0.5750973243958838\r\n",
      "test/church/images/00050.png,church,church,0.9384699978962404;0.17446029248591072;0.29805648691877346;-0.19566129464230259;0.9797460871413644;0.04259416051625206;-0.28458868710391233;-0.09829145983714294;0.953597435029874,-2.8945224482259424;0.30643099118221695;0.6433218673761893\r\n",
      "test/church/images/00068.png,church,church,0.5614917807829187;-0.22403894262446478;-0.7965761308882777;0.5290359811364728;0.837404384093705;0.13738569126227174;0.6362765992681143;-0.49855837139532055;0.5887203406843093,5.008740378898455;0.35408827188123576;0.38571110245621737\r\n",
      "test/church/images/00083.png,church,church,0.9294180576818556;-0.14626694667595677;-0.33880385824984294;0.1766930121599011;0.9823991365849903;0.06059303500342754;0.3239778595965285;-0.11618053514749523;0.9389038447807602,1.539584748840934;-0.16093783054824806;-0.7568447440957227\r\n",
      "test/church/images/00096.png,church,church,0.9490927634177684;0.09983365002008551;0.2987577091083861;-0.02470182223985888;0.9691149277946068;-0.24536926601284945;-0.3140266651194678;0.225498334914742;0.9222460379663469,-1.083661540160944;-0.05234320462066449;-1.2201000522157932\r\n",
      "test/church/images/00069.png,church,church,0.5737253970706715;-0.22168107587274602;-0.7884774374425702;0.33976125965501347;0.940355179633085;-0.017158746308137587;0.745252611665158;-0.2580496788161735;0.6148242904026571,5.034953545544376;0.19896506311559403;0.6641398882013889\r\n",
      "test/church/images/00081.png,church,church,0.8828197983811651;-0.12985061440469414;-0.4514067140893704;0.1504870828683662;0.9885619896340051;0.009941355069942183;0.4449526283504892;-0.0767073046689859;0.8922629365464032,1.6090508501942393;-0.045778363896212315;-0.383654278889079\r\n",
      "test/church/images/00042.png,church,church,0.7566628851702235;0.2047337859231791;0.620922986454387;-0.2642279320345008;0.9644520229605844;0.0039868960367110545;-0.5980341780689833;-0.16708193292154055;0.7838614351736903,-5.01187978746719;2.455404571486395;6.124767244932508\r\n",
      "test/church/images/00018.png,church,church,0.9818443119603333;-0.0592875973454915;-0.18018525986367057;0.08591968699063265;0.985870481798103;0.14379569015310611;0.1691140279768989;-0.15666644158905013;0.973065296689412,0.25919995925432954;1.0467026259990133;2.4485366960471544\r\n",
      "test/church/images/00030.png,church,church,0.9559719291145218;0.07971147955746127;0.282424770110237;-0.15136769911694534;0.9584337495823175;0.2418523667976425;-0.2514070213997645;-0.273954061273674;0.9283015037704929,-2.8745876795713117;0.05369244309016474;0.3941029647714065\r\n",
      "test/church/images/00024.png,church,church,0.8129087999613701;0.21658717090537194;0.5406193488440572;-0.23176374109718295;0.9719127096562189;-0.040880962823106486;-0.5342891083093526;-0.09206346836782481;0.8402734474765243,-0.16164027997883673;0.4481483206382645;1.774292667885195\r\n",
      "test/church/images/00032.png,church,church,0.9792826677571576;0.08515246411757826;0.18372401717012685;-0.10405566054172063;0.9899453513992603;0.09581555589893115;-0.17371780605237538;-0.11294803715735632;0.9782969205525742,-1.0995154970911138;0.4094409618521134;1.3158433337209874\r\n",
      "test/church/images/00026.png,church,church,0.9710477044270887;0.14207130284418087;0.19204713128562617;-0.17986549104196184;0.963886305921999;0.19639652336097146;-0.15720928998985856;-0.2252530447390217;0.9615333093433034,-2.1863488034722023;0.44149086048085995;0.6531705602365744\r\n",
      "test/church/images/00037.png,church,church,-0.7709300079924999;0.20937917294989059;0.6015208098740258;-0.08701530633124624;0.9009425022708974;-0.42512462180628074;-0.6309479053303556;-0.3800828456227322;-0.6763444176028681,-0.6994056793107926;0.38176445378756685;3.6436644510036804\r\n",
      "test/church/images/00008.png,church,church,0.999832785395464;-0.0004937020489239064;-0.018279975564394417;0.000520017264473389;0.9999988354077539;0.0014348397752192933;0.018279245892339716;-0.0014441057519413443;0.9998318777315437,-0.8156468127111108;1.2598989077775251;4.449578516091905\r\n",
      "test/church/images/00035.png,church,church,-0.4404478488746686;0.2276290798115905;0.8684415319673547;-0.35395781901411894;0.8449402665058303;-0.4009860451385119;-0.8250573039373966;-0.4840051116064633;-0.29158103017578063,-0.8078725395076659;1.1595830916419851;3.497176647091924\r\n",
      "test/church/images/00021.png,church,church,0.9765336040040925;0.13739162957200127;0.16584830531038944;-0.14923128882572176;0.9869117911308226;0.06111578325085544;-0.15528085099648373;-0.08443137243052203;0.9842556581820123,-1.8254662531723236;0.6411924098950029;1.6443954708369855\r\n",
      "test/church/images/00010.png,church,church,0.9951364740119765;-0.01876564901368083;-0.09670185369529478;0.01186036459570487;0.9973704972227507;-0.07149421669827451;0.09778921127950573;0.06999958347546235;0.9927423273289973,-0.5550108542950282;0.8553958710436624;4.237839891994441\r\n",
      "test/church/images/00039.png,church,church,0.6099529214562064;0.25618434511749016;0.7498846677481555;-0.34247927669082573;0.9385826303259545;-0.04207839217153539;-0.71460854923823;-0.23115412037672048;0.6602290466107175,-2.032460857008909;0.6743801136148182;1.8987716895138251\r\n",
      "test/church/images/00011.png,church,church,0.9997818439751446;0.012260443182744172;0.016909937629165213;-0.012434290270323214;0.9998705206103901;0.01021422732178036;-0.016782517187028327;-0.010422262099484972;0.9998048427416206,0.2570885956688015;1.0235656929604116;3.7076222571576185\r\n",
      "test/church/images/00013.png,church,church,0.9949100655388533;0.020852481920157595;0.09858567587253302;-0.008755347205614224;0.9925428317146741;-0.12158154098022143;-0.1003857827821439;0.12009954708318273;0.9876734244706752,0.5739457806939317;0.5239812911010506;3.840744946666429\r\n",
      "test/church/images/00006.png,church,church,0.9731821779269396;-0.07227744237674368;0.21838594251657992;0.08801062374499126;0.9941136664223974;-0.0631834498918502;-0.2125337118515461;0.08070929039271042;0.9738148857821537,0.14843283789545733;0.926817855314363;4.717783303478001\r\n",
      "test/church/images/00012.png,church,church,0.9983193933304632;0.006424226898566005;-0.057594428628572905;-0.010141439765130829;0.9978672628848059;-0.06448315177064483;0.05705734045489906;0.06495887138445013;0.9962553914176184,0.18627637834755748;0.42208262119708256;2.4781328783327785\r\n",
      "test/church/images/00029.png,church,church,0.9993115880180115;-0.00556744214868979;0.03667906270396103;0.005255083066425845;0.9999491512483909;0.008606916961817795;-0.03672511613167584;-0.008408240335745342;0.9992900316422512,-0.9660370186236822;0.3088239493511703;1.6316983467884625\r\n",
      "test/church/images/00001.png,church,church,0.9457979242947391;0.10507451030580539;0.30728754235041517;-0.12515144237764475;0.9910558317895299;0.046319053819762944;-0.2996721589847113;-0.08226594410786414;0.9504887750886297,1.1615889740079441;1.5055139036712557;4.426203650808136\r\n",
      "test/church/images/00098.png,church,church,1.0;0.0;0.0;0.0;1.0;0.0;0.0;0.0;1.0,0.0;0.0;0.0\r\n",
      "test/church/images/00072.png,church,church,0.7396943219060146;-0.18813092311879426;-0.6461107226369731;0.32593323809555513;0.9401534507517941;0.09939322584582884;0.5887442861247552;-0.2841095647914095;0.7567442901994625,3.537618658773786;0.3178677123849741;0.13648936976062273\r\n",
      "test/church/images/00066.png,church,church,0.5288933480537908;-0.25309056229017385;-0.8100722150920222;0.33976943842699664;0.9378124098009069;-0.07116609258923294;0.7777072425376114;-0.23759850862970405;0.5819951834865005,5.003930547683519;0.39480311917184446;0.8726028317975075\r\n",
      "test/church/images/00104.png,church,church,0.9137040563120907;0.11612985874140748;0.3894338883398985;-0.03356151785473703;0.9765894621947444;-0.2124774031502316;-0.4049920023878471;0.1810714727362668;0.896211247286599,-0.11023962778464255;0.35165046198357053;1.4012786953045078\r\n",
      "test/church/images/00058.png,church,church,0.9932449203951099;-0.11047199227049602;0.035503056672618646;0.10935858221986013;0.7888898860314744;-0.6047259281791294;0.038797275731342215;0.6045235203373273;0.7956419325015438,0.31991918462626223;0.18105650847112217;0.6906684430103852\r\n",
      "test/church/images/00059.png,church,church,-0.16994762827079457;-0.29063470448301887;-0.9416205563788426;0.5587052852269319;0.758693597439179;-0.33501108856915457;0.8117673360665761;-0.5830227214739281;0.03344096799600438,6.292742487715565;2.795614145811613;4.324247972560299\r\n",
      "test/church/images/00111.png,church,church,0.8794511635212604;0.190599964294211;0.43616201644818486;-0.27078181176321847;0.9539416690821074;0.12912204462086202;-0.3914624648664673;-0.2316612734141994;0.8905561144592639,-3.7409891073364228;0.8402793505362871;1.1835413876312422\r\n",
      "test/church/images/00061.png,church,church,0.14613289283248965;0.3379202541255375;0.929760764650854;-0.4579915626669515;0.856172526270111;-0.23919099854747886;-0.8768631057116568;-0.3908689129516293;0.2798795932713203,-3.6126688264951747;1.7832984782444652;3.124719200207731\r\n",
      "test/church/images/00060.png,church,church,0.9610340413220128;-0.16466800481875155;-0.22203157345137114;0.10663253181400295;0.9618799710964314;-0.25182617886642344;0.25503543788896404;0.2183377415669125;0.9419583621520882,0.361760723548313;0.643410523891688;2.9414609234157574\r\n",
      "test/church/images/00074.png,church,church,0.8533682510461861;-0.17057083510766352;-0.4926136603029273;0.14439252168243694;0.9853235744240514;-0.0910398449383445;0.5009125949590014;0.006560784624195966;0.865473008427504,3.5750981286783574;0.1426669417767813;0.2149803474928561\r\n",
      "test/church/images/00102.png,church,church,0.9249240137459561;-0.18842646639500443;-0.3301681928320211;0.1183082612135159;0.9680609930798224;-0.22104540032749498;0.36127375233291564;0.16538857408902313;0.9176752668760856,-0.5360241507759671;0.536034967782148;3.160777789206935\r\n",
      "test/church/images/00076.png,church,church,0.449039473318676;-0.26231739349188;-0.8541388274006237;0.29661437980903915;0.9454877517420076;-0.1344351925514405;0.8428424888982432;-0.19298315050146223;0.5023684330552078,4.783385364977233;1.2209776105499957;3.154299215805423\r\n",
      "test/church/images/00063.png,church,church,0.41633541547899977;0.011934067049827857;-0.909132773505377;0.35624266998091486;0.9178235517318396;0.17518872101599506;0.8365141851175016;-0.3968091555521387;0.37787102583712473,0.6044937571938691;0.8282932881684931;0.23083162280401218\r\n"
     ]
    }
   ],
   "source": [
    "!cat submission.csv"
   ]
  }
 ],
 "metadata": {
  "kaggle": {
   "accelerator": "gpu",
   "dataSources": [
    {
     "databundleVersionId": 8143495,
     "sourceId": 71885,
     "sourceType": "competition"
    },
    {
     "datasetId": 4628051,
     "sourceId": 7884485,
     "sourceType": "datasetVersion"
    },
    {
     "datasetId": 4628331,
     "sourceId": 7884725,
     "sourceType": "datasetVersion"
    },
    {
     "modelInstanceId": 3326,
     "sourceId": 4534,
     "sourceType": "modelInstanceVersion"
    },
    {
     "modelInstanceId": 14317,
     "sourceId": 17191,
     "sourceType": "modelInstanceVersion"
    },
    {
     "modelInstanceId": 14611,
     "sourceId": 17555,
     "sourceType": "modelInstanceVersion"
    }
   ],
   "dockerImageVersionId": 30665,
   "isGpuEnabled": true,
   "isInternetEnabled": false,
   "language": "python",
   "sourceType": "notebook"
  },
  "kernelspec": {
   "display_name": "Python 3 (ipykernel)",
   "language": "python",
   "name": "python3"
  },
  "language_info": {
   "codemirror_mode": {
    "name": "ipython",
    "version": 3
   },
   "file_extension": ".py",
   "mimetype": "text/x-python",
   "name": "python",
   "nbconvert_exporter": "python",
   "pygments_lexer": "ipython3",
   "version": "3.11.7"
  },
  "papermill": {
   "default_parameters": {},
   "duration": 397.254232,
   "end_time": "2024-05-07T18:21:07.172539",
   "environment_variables": {},
   "exception": null,
   "input_path": "__notebook__.ipynb",
   "output_path": "__notebook__.ipynb",
   "parameters": {},
   "start_time": "2024-05-07T18:14:29.918307",
   "version": "2.5.0"
  }
 },
 "nbformat": 4,
 "nbformat_minor": 5
}
